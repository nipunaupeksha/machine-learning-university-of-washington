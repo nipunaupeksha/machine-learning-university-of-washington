{
 "cells": [
  {
   "cell_type": "markdown",
   "metadata": {},
   "source": [
    "Fire up GraphLab Create"
   ]
  },
  {
   "cell_type": "code",
   "execution_count": 2,
   "metadata": {},
   "outputs": [],
   "source": [
    "import graphlab"
   ]
  },
  {
   "cell_type": "code",
   "execution_count": 4,
   "metadata": {},
   "outputs": [
    {
     "data": {
      "text/html": [
       "<pre>Finished parsing file E:\\Projects\\Machine Learning\\Machine Learning Regression\\Python Notebooks\\Philadelphia_Crime_Rate_noNA.csv</pre>"
      ],
      "text/plain": [
       "Finished parsing file E:\\Projects\\Machine Learning\\Machine Learning Regression\\Python Notebooks\\Philadelphia_Crime_Rate_noNA.csv"
      ]
     },
     "metadata": {},
     "output_type": "display_data"
    },
    {
     "data": {
      "text/html": [
       "<pre>Parsing completed. Parsed 99 lines in 0.050707 secs.</pre>"
      ],
      "text/plain": [
       "Parsing completed. Parsed 99 lines in 0.050707 secs."
      ]
     },
     "metadata": {},
     "output_type": "display_data"
    },
    {
     "name": "stdout",
     "output_type": "stream",
     "text": [
      "------------------------------------------------------\n",
      "Inferred types from first 100 line(s) of file as \n",
      "column_type_hints=[long,float,float,float,float,str,str]\n",
      "If parsing fails due to incorrect types, you can correct\n",
      "the inferred type list above and pass it to read_csv in\n",
      "the column_type_hints argument\n",
      "------------------------------------------------------\n"
     ]
    },
    {
     "data": {
      "text/html": [
       "<pre>Finished parsing file E:\\Projects\\Machine Learning\\Machine Learning Regression\\Python Notebooks\\Philadelphia_Crime_Rate_noNA.csv</pre>"
      ],
      "text/plain": [
       "Finished parsing file E:\\Projects\\Machine Learning\\Machine Learning Regression\\Python Notebooks\\Philadelphia_Crime_Rate_noNA.csv"
      ]
     },
     "metadata": {},
     "output_type": "display_data"
    },
    {
     "data": {
      "text/html": [
       "<pre>Parsing completed. Parsed 99 lines in 0.041524 secs.</pre>"
      ],
      "text/plain": [
       "Parsing completed. Parsed 99 lines in 0.041524 secs."
      ]
     },
     "metadata": {},
     "output_type": "display_data"
    }
   ],
   "source": [
    "sf = graphlab.SFrame.read_csv('Philadelphia_Crime_Rate_noNA.csv/')"
   ]
  },
  {
   "cell_type": "code",
   "execution_count": 5,
   "metadata": {},
   "outputs": [
    {
     "data": {
      "text/html": [
       "<div style=\"max-height:1000px;max-width:1500px;overflow:auto;\"><table frame=\"box\" rules=\"cols\">\n",
       "    <tr>\n",
       "        <th style=\"padding-left: 1em; padding-right: 1em; text-align: center\">HousePrice</th>\n",
       "        <th style=\"padding-left: 1em; padding-right: 1em; text-align: center\">HsPrc ($10,000)</th>\n",
       "        <th style=\"padding-left: 1em; padding-right: 1em; text-align: center\">CrimeRate</th>\n",
       "        <th style=\"padding-left: 1em; padding-right: 1em; text-align: center\">MilesPhila</th>\n",
       "        <th style=\"padding-left: 1em; padding-right: 1em; text-align: center\">PopChg</th>\n",
       "        <th style=\"padding-left: 1em; padding-right: 1em; text-align: center\">Name</th>\n",
       "        <th style=\"padding-left: 1em; padding-right: 1em; text-align: center\">County</th>\n",
       "    </tr>\n",
       "    <tr>\n",
       "        <td style=\"padding-left: 1em; padding-right: 1em; text-align: center; vertical-align: top\">140463</td>\n",
       "        <td style=\"padding-left: 1em; padding-right: 1em; text-align: center; vertical-align: top\">14.0463</td>\n",
       "        <td style=\"padding-left: 1em; padding-right: 1em; text-align: center; vertical-align: top\">29.7</td>\n",
       "        <td style=\"padding-left: 1em; padding-right: 1em; text-align: center; vertical-align: top\">10.0</td>\n",
       "        <td style=\"padding-left: 1em; padding-right: 1em; text-align: center; vertical-align: top\">-1.0</td>\n",
       "        <td style=\"padding-left: 1em; padding-right: 1em; text-align: center; vertical-align: top\">Abington</td>\n",
       "        <td style=\"padding-left: 1em; padding-right: 1em; text-align: center; vertical-align: top\">Montgome</td>\n",
       "    </tr>\n",
       "    <tr>\n",
       "        <td style=\"padding-left: 1em; padding-right: 1em; text-align: center; vertical-align: top\">113033</td>\n",
       "        <td style=\"padding-left: 1em; padding-right: 1em; text-align: center; vertical-align: top\">11.3033</td>\n",
       "        <td style=\"padding-left: 1em; padding-right: 1em; text-align: center; vertical-align: top\">24.1</td>\n",
       "        <td style=\"padding-left: 1em; padding-right: 1em; text-align: center; vertical-align: top\">18.0</td>\n",
       "        <td style=\"padding-left: 1em; padding-right: 1em; text-align: center; vertical-align: top\">4.0</td>\n",
       "        <td style=\"padding-left: 1em; padding-right: 1em; text-align: center; vertical-align: top\">Ambler</td>\n",
       "        <td style=\"padding-left: 1em; padding-right: 1em; text-align: center; vertical-align: top\">Montgome</td>\n",
       "    </tr>\n",
       "    <tr>\n",
       "        <td style=\"padding-left: 1em; padding-right: 1em; text-align: center; vertical-align: top\">124186</td>\n",
       "        <td style=\"padding-left: 1em; padding-right: 1em; text-align: center; vertical-align: top\">12.4186</td>\n",
       "        <td style=\"padding-left: 1em; padding-right: 1em; text-align: center; vertical-align: top\">19.5</td>\n",
       "        <td style=\"padding-left: 1em; padding-right: 1em; text-align: center; vertical-align: top\">25.0</td>\n",
       "        <td style=\"padding-left: 1em; padding-right: 1em; text-align: center; vertical-align: top\">8.0</td>\n",
       "        <td style=\"padding-left: 1em; padding-right: 1em; text-align: center; vertical-align: top\">Aston</td>\n",
       "        <td style=\"padding-left: 1em; padding-right: 1em; text-align: center; vertical-align: top\">Delaware</td>\n",
       "    </tr>\n",
       "    <tr>\n",
       "        <td style=\"padding-left: 1em; padding-right: 1em; text-align: center; vertical-align: top\">110490</td>\n",
       "        <td style=\"padding-left: 1em; padding-right: 1em; text-align: center; vertical-align: top\">11.049</td>\n",
       "        <td style=\"padding-left: 1em; padding-right: 1em; text-align: center; vertical-align: top\">49.4</td>\n",
       "        <td style=\"padding-left: 1em; padding-right: 1em; text-align: center; vertical-align: top\">25.0</td>\n",
       "        <td style=\"padding-left: 1em; padding-right: 1em; text-align: center; vertical-align: top\">2.7</td>\n",
       "        <td style=\"padding-left: 1em; padding-right: 1em; text-align: center; vertical-align: top\">Bensalem</td>\n",
       "        <td style=\"padding-left: 1em; padding-right: 1em; text-align: center; vertical-align: top\">Bucks</td>\n",
       "    </tr>\n",
       "    <tr>\n",
       "        <td style=\"padding-left: 1em; padding-right: 1em; text-align: center; vertical-align: top\">79124</td>\n",
       "        <td style=\"padding-left: 1em; padding-right: 1em; text-align: center; vertical-align: top\">7.9124</td>\n",
       "        <td style=\"padding-left: 1em; padding-right: 1em; text-align: center; vertical-align: top\">54.1</td>\n",
       "        <td style=\"padding-left: 1em; padding-right: 1em; text-align: center; vertical-align: top\">19.0</td>\n",
       "        <td style=\"padding-left: 1em; padding-right: 1em; text-align: center; vertical-align: top\">3.9</td>\n",
       "        <td style=\"padding-left: 1em; padding-right: 1em; text-align: center; vertical-align: top\">Bristol B.</td>\n",
       "        <td style=\"padding-left: 1em; padding-right: 1em; text-align: center; vertical-align: top\">Bucks</td>\n",
       "    </tr>\n",
       "    <tr>\n",
       "        <td style=\"padding-left: 1em; padding-right: 1em; text-align: center; vertical-align: top\">92634</td>\n",
       "        <td style=\"padding-left: 1em; padding-right: 1em; text-align: center; vertical-align: top\">9.2634</td>\n",
       "        <td style=\"padding-left: 1em; padding-right: 1em; text-align: center; vertical-align: top\">48.6</td>\n",
       "        <td style=\"padding-left: 1em; padding-right: 1em; text-align: center; vertical-align: top\">20.0</td>\n",
       "        <td style=\"padding-left: 1em; padding-right: 1em; text-align: center; vertical-align: top\">0.6</td>\n",
       "        <td style=\"padding-left: 1em; padding-right: 1em; text-align: center; vertical-align: top\">Bristol T.</td>\n",
       "        <td style=\"padding-left: 1em; padding-right: 1em; text-align: center; vertical-align: top\">Bucks</td>\n",
       "    </tr>\n",
       "    <tr>\n",
       "        <td style=\"padding-left: 1em; padding-right: 1em; text-align: center; vertical-align: top\">89246</td>\n",
       "        <td style=\"padding-left: 1em; padding-right: 1em; text-align: center; vertical-align: top\">8.9246</td>\n",
       "        <td style=\"padding-left: 1em; padding-right: 1em; text-align: center; vertical-align: top\">30.8</td>\n",
       "        <td style=\"padding-left: 1em; padding-right: 1em; text-align: center; vertical-align: top\">15.0</td>\n",
       "        <td style=\"padding-left: 1em; padding-right: 1em; text-align: center; vertical-align: top\">-2.6</td>\n",
       "        <td style=\"padding-left: 1em; padding-right: 1em; text-align: center; vertical-align: top\">Brookhaven</td>\n",
       "        <td style=\"padding-left: 1em; padding-right: 1em; text-align: center; vertical-align: top\">Delaware</td>\n",
       "    </tr>\n",
       "    <tr>\n",
       "        <td style=\"padding-left: 1em; padding-right: 1em; text-align: center; vertical-align: top\">195145</td>\n",
       "        <td style=\"padding-left: 1em; padding-right: 1em; text-align: center; vertical-align: top\">19.5145</td>\n",
       "        <td style=\"padding-left: 1em; padding-right: 1em; text-align: center; vertical-align: top\">10.8</td>\n",
       "        <td style=\"padding-left: 1em; padding-right: 1em; text-align: center; vertical-align: top\">20.0</td>\n",
       "        <td style=\"padding-left: 1em; padding-right: 1em; text-align: center; vertical-align: top\">-3.5</td>\n",
       "        <td style=\"padding-left: 1em; padding-right: 1em; text-align: center; vertical-align: top\">Bryn Athyn</td>\n",
       "        <td style=\"padding-left: 1em; padding-right: 1em; text-align: center; vertical-align: top\">Montgome</td>\n",
       "    </tr>\n",
       "    <tr>\n",
       "        <td style=\"padding-left: 1em; padding-right: 1em; text-align: center; vertical-align: top\">297342</td>\n",
       "        <td style=\"padding-left: 1em; padding-right: 1em; text-align: center; vertical-align: top\">29.7342</td>\n",
       "        <td style=\"padding-left: 1em; padding-right: 1em; text-align: center; vertical-align: top\">20.2</td>\n",
       "        <td style=\"padding-left: 1em; padding-right: 1em; text-align: center; vertical-align: top\">14.0</td>\n",
       "        <td style=\"padding-left: 1em; padding-right: 1em; text-align: center; vertical-align: top\">0.6</td>\n",
       "        <td style=\"padding-left: 1em; padding-right: 1em; text-align: center; vertical-align: top\">Bryn Mawr</td>\n",
       "        <td style=\"padding-left: 1em; padding-right: 1em; text-align: center; vertical-align: top\">Montgome</td>\n",
       "    </tr>\n",
       "    <tr>\n",
       "        <td style=\"padding-left: 1em; padding-right: 1em; text-align: center; vertical-align: top\">264298</td>\n",
       "        <td style=\"padding-left: 1em; padding-right: 1em; text-align: center; vertical-align: top\">26.4298</td>\n",
       "        <td style=\"padding-left: 1em; padding-right: 1em; text-align: center; vertical-align: top\">20.4</td>\n",
       "        <td style=\"padding-left: 1em; padding-right: 1em; text-align: center; vertical-align: top\">26.0</td>\n",
       "        <td style=\"padding-left: 1em; padding-right: 1em; text-align: center; vertical-align: top\">6.0</td>\n",
       "        <td style=\"padding-left: 1em; padding-right: 1em; text-align: center; vertical-align: top\">Buckingham</td>\n",
       "        <td style=\"padding-left: 1em; padding-right: 1em; text-align: center; vertical-align: top\">Bucks</td>\n",
       "    </tr>\n",
       "</table>\n",
       "[99 rows x 7 columns]<br/>Note: Only the head of the SFrame is printed.<br/>You can use print_rows(num_rows=m, num_columns=n) to print more rows and columns.\n",
       "</div>"
      ],
      "text/plain": [
       "Columns:\n",
       "\tHousePrice\tint\n",
       "\tHsPrc ($10,000)\tfloat\n",
       "\tCrimeRate\tfloat\n",
       "\tMilesPhila\tfloat\n",
       "\tPopChg\tfloat\n",
       "\tName\tstr\n",
       "\tCounty\tstr\n",
       "\n",
       "Rows: 99\n",
       "\n",
       "Data:\n",
       "+------------+-----------------+-----------+------------+--------+------------+\n",
       "| HousePrice | HsPrc ($10,000) | CrimeRate | MilesPhila | PopChg |    Name    |\n",
       "+------------+-----------------+-----------+------------+--------+------------+\n",
       "|   140463   |     14.0463     |    29.7   |    10.0    |  -1.0  |  Abington  |\n",
       "|   113033   |     11.3033     |    24.1   |    18.0    |  4.0   |   Ambler   |\n",
       "|   124186   |     12.4186     |    19.5   |    25.0    |  8.0   |   Aston    |\n",
       "|   110490   |      11.049     |    49.4   |    25.0    |  2.7   |  Bensalem  |\n",
       "|   79124    |      7.9124     |    54.1   |    19.0    |  3.9   | Bristol B. |\n",
       "|   92634    |      9.2634     |    48.6   |    20.0    |  0.6   | Bristol T. |\n",
       "|   89246    |      8.9246     |    30.8   |    15.0    |  -2.6  | Brookhaven |\n",
       "|   195145   |     19.5145     |    10.8   |    20.0    |  -3.5  | Bryn Athyn |\n",
       "|   297342   |     29.7342     |    20.2   |    14.0    |  0.6   | Bryn Mawr  |\n",
       "|   264298   |     26.4298     |    20.4   |    26.0    |  6.0   | Buckingham |\n",
       "+------------+-----------------+-----------+------------+--------+------------+\n",
       "+----------+\n",
       "|  County  |\n",
       "+----------+\n",
       "| Montgome |\n",
       "| Montgome |\n",
       "| Delaware |\n",
       "|  Bucks   |\n",
       "|  Bucks   |\n",
       "|  Bucks   |\n",
       "| Delaware |\n",
       "| Montgome |\n",
       "| Montgome |\n",
       "|  Bucks   |\n",
       "+----------+\n",
       "[99 rows x 7 columns]\n",
       "Note: Only the head of the SFrame is printed.\n",
       "You can use print_rows(num_rows=m, num_columns=n) to print more rows and columns."
      ]
     },
     "execution_count": 5,
     "metadata": {},
     "output_type": "execute_result"
    }
   ],
   "source": [
    "sf"
   ]
  },
  {
   "cell_type": "markdown",
   "metadata": {},
   "source": [
    "Exploring the Data"
   ]
  },
  {
   "cell_type": "code",
   "execution_count": 8,
   "metadata": {},
   "outputs": [
    {
     "data": {
      "application/javascript": [
       "$(\"head\").append($(\"<link/>\").attr({\n",
       "  rel:  \"stylesheet\",\n",
       "  type: \"text/css\",\n",
       "  href: \"//cdnjs.cloudflare.com/ajax/libs/font-awesome/4.1.0/css/font-awesome.min.css\"\n",
       "}));\n",
       "$(\"head\").append($(\"<link/>\").attr({\n",
       "  rel:  \"stylesheet\",\n",
       "  type: \"text/css\",\n",
       "  href: \"https://static.turi.com/products/graphlab-create/2.1/canvas/css/canvas.css\"\n",
       "}));\n",
       "\n",
       "            (function(){\n",
       "\n",
       "                var e = null;\n",
       "                if (typeof element == 'undefined') {\n",
       "                    var scripts = document.getElementsByTagName('script');\n",
       "                    var thisScriptTag = scripts[scripts.length-1];\n",
       "                    var parentDiv = thisScriptTag.parentNode;\n",
       "                    e = document.createElement('div');\n",
       "                    parentDiv.appendChild(e);\n",
       "                } else {\n",
       "                    e = element[0];\n",
       "                }\n",
       "\n",
       "                if (typeof requirejs !== 'undefined') {\n",
       "                    // disable load timeout; ipython_app.js is large and can take a while to load.\n",
       "                    requirejs.config({waitSeconds: 0});\n",
       "                }\n",
       "\n",
       "                require(['https://static.turi.com/products/graphlab-create/2.1/canvas/js/ipython_app.js'], function(IPythonApp){\n",
       "                    var app = new IPythonApp();\n",
       "                    app.attachView('sframe','Summary', {\"ipython\": true, \"sketch\": {\"Name\": {\"complete\": true, \"numeric\": false, \"num_unique\": 96, \"num_undefined\": 0, \"progress\": 1.0, \"frequent_items\": {\"Newtown B.\": {\"frequency\": 1, \"value\": \"Newtown B.\"}, \"Glenolden\": {\"frequency\": 1, \"value\": \"Glenolden\"}, \"Lansdown\": {\"frequency\": 1, \"value\": \"Lansdown\"}, \"Doylestown\": {\"frequency\": 1, \"value\": \"Doylestown\"}, \"Pottstown\": {\"frequency\": 1, \"value\": \"Pottstown\"}, \"Yardley\": {\"frequency\": 1, \"value\": \"Yardley\"}, \"N. Wales\": {\"frequency\": 1, \"value\": \"N. Wales\"}, \"E. Norriton\": {\"frequency\": 1, \"value\": \"E. Norriton\"}, \"U. Providence\": {\"frequency\": 1, \"value\": \"U. Providence\"}, \"Newtown\": {\"frequency\": 1, \"value\": \"Newtown\"}, \"Westtown\": {\"frequency\": 1, \"value\": \"Westtown\"}, \"Jenkintown\": {\"frequency\": 1, \"value\": \"Jenkintown\"}, \"Easttown\": {\"frequency\": 1, \"value\": \"Easttown\"}, \"U. Southampton\": {\"frequency\": 1, \"value\": \"U. Southampton\"}, \"Bryn Mawr\": {\"frequency\": 1, \"value\": \"Bryn Mawr\"}, \"Falls Town\": {\"frequency\": 1, \"value\": \"Falls Town\"}, \"Bristol B.\": {\"frequency\": 1, \"value\": \"Bristol B.\"}, \"Brookhaven\": {\"frequency\": 1, \"value\": \"Brookhaven\"}, \"Willistown\": {\"frequency\": 1, \"value\": \"Willistown\"}, \"L. Gwynedd\": {\"frequency\": 1, \"value\": \"L. Gwynedd\"}, \"Upper Darby\": {\"frequency\": 2, \"value\": \"Upper Darby\"}, \"L Southampton\": {\"frequency\": 1, \"value\": \"L Southampton\"}, \"Bensalem\": {\"frequency\": 1, \"value\": \"Bensalem\"}, \"Radnor\": {\"frequency\": 1, \"value\": \"Radnor\"}, \"Schuylkill\": {\"frequency\": 1, \"value\": \"Schuylkill\"}, \"Downingtown\": {\"frequency\": 1, \"value\": \"Downingtown\"}, \"E. Pikeland\": {\"frequency\": 1, \"value\": \"E. Pikeland\"}, \"Prospect Park\": {\"frequency\": 1, \"value\": \"Prospect Park\"}, \"Solebury\": {\"frequency\": 1, \"value\": \"Solebury\"}, \"Royersford\": {\"frequency\": 1, \"value\": \"Royersford\"}, \"Darby Town\": {\"frequency\": 1, \"value\": \"Darby Town\"}, \"Phila, West\": {\"frequency\": 1, \"value\": \"Phila, West\"}, \"Narberth\": {\"frequency\": 1, \"value\": \"Narberth\"}, \"Phoenixville\": {\"frequency\": 1, \"value\": \"Phoenixville\"}, \"Lansdale\": {\"frequency\": 1, \"value\": \"Lansdale\"}, \"Norristown\": {\"frequency\": 1, \"value\": \"Norristown\"}, \"Darby Bor.\": {\"frequency\": 1, \"value\": \"Darby Bor.\"}, \"Phila, N\": {\"frequency\": 1, \"value\": \"Phila, N\"}, \"Phila, SW\": {\"frequency\": 1, \"value\": \"Phila, SW\"}, \"Buckingham\": {\"frequency\": 1, \"value\": \"Buckingham\"}, \"E. Goshen\": {\"frequency\": 1, \"value\": \"E. Goshen\"}, \"U. Chichester\": {\"frequency\": 1, \"value\": \"U. Chichester\"}, \"U. Makefield\": {\"frequency\": 1, \"value\": \"U. Makefield\"}, \"Morrisville\": {\"frequency\": 1, \"value\": \"Morrisville\"}, \"Warminster\": {\"frequency\": 1, \"value\": \"Warminster\"}, \"Swarthmore\": {\"frequency\": 1, \"value\": \"Swarthmore\"}, \"Horsham\": {\"frequency\": 1, \"value\": \"Horsham\"}, \"Phila,CC\": {\"frequency\": 1, \"value\": \"Phila,CC\"}, \"Bristol T.\": {\"frequency\": 1, \"value\": \"Bristol T.\"}, \"Phila, Far NE\": {\"frequency\": 1, \"value\": \"Phila, Far NE\"}, \"Northampton\": {\"frequency\": 1, \"value\": \"Northampton\"}, \"Chalfont\": {\"frequency\": 1, \"value\": \"Chalfont\"}, \"Marple\": {\"frequency\": 1, \"value\": \"Marple\"}, \"E. Whiteland\": {\"frequency\": 1, \"value\": \"E. Whiteland\"}, \"Follcroft\": {\"frequency\": 1, \"value\": \"Follcroft\"}, \"U. Moreland\": {\"frequency\": 1, \"value\": \"U. Moreland\"}, \"Middletown\": {\"frequency\": 1, \"value\": \"Middletown\"}, \"Haverford\": {\"frequency\": 1, \"value\": \"Haverford\"}, \"Villanova\": {\"frequency\": 1, \"value\": \"Villanova\"}, \"Ridley Town\": {\"frequency\": 1, \"value\": \"Ridley Town\"}, \"Aston\": {\"frequency\": 1, \"value\": \"Aston\"}, \"Uwchlan T.\": {\"frequency\": 1, \"value\": \"Uwchlan T.\"}, \"Phila, NW\": {\"frequency\": 1, \"value\": \"Phila, NW\"}, \"Abington\": {\"frequency\": 1, \"value\": \"Abington\"}, \"Phila, NE\": {\"frequency\": 1, \"value\": \"Phila, NE\"}, \"Ambler\": {\"frequency\": 1, \"value\": \"Ambler\"}, \"W. Goshen\": {\"frequency\": 1, \"value\": \"W. Goshen\"}, \"Norwood\": {\"frequency\": 1, \"value\": \"Norwood\"}, \"L. Merion\": {\"frequency\": 1, \"value\": \"L. Merion\"}, \"Cheltenham\": {\"frequency\": 1, \"value\": \"Cheltenham\"}, \"Hatboro\": {\"frequency\": 1, \"value\": \"Hatboro\"}, \"Limerick\": {\"frequency\": 1, \"value\": \"Limerick\"}, \"Collegeville\": {\"frequency\": 1, \"value\": \"Collegeville\"}, \"Bryn Athyn\": {\"frequency\": 1, \"value\": \"Bryn Athyn\"}, \"Tredyffin\": {\"frequency\": 1, \"value\": \"Tredyffin\"}, \"Gladwyne\": {\"frequency\": 1, \"value\": \"Gladwyne\"}, \"Media\": {\"frequency\": 1, \"value\": \"Media\"}, \"Phila, South\": {\"frequency\": 1, \"value\": \"Phila, South\"}, \"Whitemarsh\": {\"frequency\": 1, \"value\": \"Whitemarsh\"}, \"E. Bradford\": {\"frequency\": 1, \"value\": \"E. Bradford\"}, \"Springfield\": {\"frequency\": 2, \"value\": \"Springfield\"}, \"W. Chester\": {\"frequency\": 1, \"value\": \"W. Chester\"}, \"L. Makefield\": {\"frequency\": 1, \"value\": \"L. Makefield\"}, \"Ridley Park\": {\"frequency\": 1, \"value\": \"Ridley Park\"}, \"Warrington\": {\"frequency\": 1, \"value\": \"Warrington\"}, \"U. Uwchlan\": {\"frequency\": 1, \"value\": \"U. Uwchlan\"}, \"Malvern\": {\"frequency\": 1, \"value\": \"Malvern\"}, \"Wynnewood\": {\"frequency\": 1, \"value\": \"Wynnewood\"}, \"Newtown T.\": {\"frequency\": 1, \"value\": \"Newtown T.\"}, \"W. Whiteland\": {\"frequency\": 1, \"value\": \"W. Whiteland\"}, \"Nether\": {\"frequency\": 1, \"value\": \"Nether\"}, \"Plymouth\": {\"frequency\": 1, \"value\": \"Plymouth\"}, \"Sharon Hill\": {\"frequency\": 1, \"value\": \"Sharon Hill\"}, \"Clifton\": {\"frequency\": 1, \"value\": \"Clifton\"}, \"L. Moreland\": {\"frequency\": 1, \"value\": \"L. Moreland\"}, \"Morton\": {\"frequency\": 1, \"value\": \"Morton\"}, \"U. Merion\": {\"frequency\": 1, \"value\": \"U. Merion\"}}, \"size\": 99}, \"PopChg\": {\"std\": 5.603496706843579, \"complete\": true, \"min\": -9.2, \"max\": 26.9, \"quantile\": [-9.2, -9.2, -8.4, -6.4, -5.7, -5.1, -5.1, -4.9, -3.7, -3.5, -3.2, -2.9, -2.6, -2.4, -2.1, -2.1, -2.0, -1.8, -1.7, -1.6, -1.4, -1.2, -1.0, -1.0, -0.7, -0.7, -0.4, -0.4, -0.2, -0.2, 0.0, 0.1, 0.2, 0.2, 0.3, 0.5, 0.6, 0.6, 0.9, 0.9, 1.1, 1.2, 1.3, 1.3, 1.4, 1.5, 1.5, 1.5, 1.6, 1.6, 1.6, 1.6, 1.8, 1.8, 1.9, 1.9, 1.9, 2.1, 2.2, 2.3, 2.4, 2.7, 2.7, 2.9, 3.1, 3.2, 3.4, 3.9, 3.9, 4.0, 4.0, 4.2, 4.6, 4.6, 4.7, 4.8, 4.9, 5.1, 5.2, 5.2, 5.3, 5.7, 5.8, 5.9, 6.0, 6.3, 6.4, 6.9, 7.8, 7.8, 8.0, 8.0, 8.5, 11.0, 12.9, 14.6, 15.0, 17.4, 23.1, 26.9, 26.9], \"median\": 1.6, \"numeric\": true, \"num_unique\": 74, \"num_undefined\": 1, \"var\": 31.399175343606835, \"progress\": 1.0, \"size\": 99, \"frequent_items\": {\"-3.5\": {\"frequency\": 1, \"value\": -3.5}, \"0.0\": {\"frequency\": 1, \"value\": 0.0}, \"4.0\": {\"frequency\": 2, \"value\": 4.0}, \"6.0\": {\"frequency\": 1, \"value\": 6.0}, \"-1.2\": {\"frequency\": 1, \"value\": -1.2}, \"8.0\": {\"frequency\": 2, \"value\": 8.0}, \"11.0\": {\"frequency\": 1, \"value\": 11.0}, \"2.2\": {\"frequency\": 1, \"value\": 2.2}, \"2.9\": {\"frequency\": 1, \"value\": 2.9}, \"15.0\": {\"frequency\": 1, \"value\": 15.0}, \"-0.2\": {\"frequency\": 2, \"value\": -0.2}, \"4.6\": {\"frequency\": 2, \"value\": 4.6}, \"26.9\": {\"frequency\": 1, \"value\": 26.9}, \"-3.7\": {\"frequency\": 1, \"value\": -3.7}, \"-0.4\": {\"frequency\": 2, \"value\": -0.4}, \"-1.4\": {\"frequency\": 1, \"value\": -1.4}, \"0.5\": {\"frequency\": 1, \"value\": 0.5}, \"1.9\": {\"frequency\": 3, \"value\": 1.9}, \"2.1\": {\"frequency\": 1, \"value\": 2.1}, \"-8.4\": {\"frequency\": 1, \"value\": -8.4}, \"23.1\": {\"frequency\": 1, \"value\": 23.1}, \"-2.0\": {\"frequency\": 1, \"value\": -2.0}, \"4.7\": {\"frequency\": 1, \"value\": 4.7}, \"3.2\": {\"frequency\": 1, \"value\": 3.2}, \"8.5\": {\"frequency\": 1, \"value\": 8.5}, \"0.3\": {\"frequency\": 1, \"value\": 0.3}, \"-9.2\": {\"frequency\": 1, \"value\": -9.2}, \"7.8\": {\"frequency\": 2, \"value\": 7.8}, \"-4.9\": {\"frequency\": 1, \"value\": -4.9}, \"4.2\": {\"frequency\": 1, \"value\": 4.2}, \"-2.4\": {\"frequency\": 1, \"value\": -2.4}, \"4.9\": {\"frequency\": 1, \"value\": 4.9}, \"-2.1\": {\"frequency\": 2, \"value\": -2.1}, \"1.3\": {\"frequency\": 2, \"value\": 1.3}, \"-2.9\": {\"frequency\": 1, \"value\": -2.9}, \"-3.2\": {\"frequency\": 1, \"value\": -3.2}, \"1.5\": {\"frequency\": 3, \"value\": 1.5}, \"-6.4\": {\"frequency\": 1, \"value\": -6.4}, \"6.3\": {\"frequency\": 1, \"value\": 6.3}, \"5.7\": {\"frequency\": 1, \"value\": 5.7}, \"6.9\": {\"frequency\": 1, \"value\": 6.9}, \"2.4\": {\"frequency\": 1, \"value\": 2.4}, \"0.6\": {\"frequency\": 2, \"value\": 0.6}, \"3.9\": {\"frequency\": 2, \"value\": 3.9}, \"6.4\": {\"frequency\": 1, \"value\": 6.4}, \"-2.6\": {\"frequency\": 1, \"value\": -2.6}, \"14.6\": {\"frequency\": 1, \"value\": 14.6}, \"5.1\": {\"frequency\": 1, \"value\": 5.1}, \"-5.7\": {\"frequency\": 1, \"value\": -5.7}, \"0.1\": {\"frequency\": 1, \"value\": 0.1}, \"17.4\": {\"frequency\": 1, \"value\": 17.4}, \"-1.8\": {\"frequency\": 1, \"value\": -1.8}, \"1.1\": {\"frequency\": 1, \"value\": 1.1}, \"0.9\": {\"frequency\": 2, \"value\": 0.9}, \"1.8\": {\"frequency\": 2, \"value\": 1.8}, \"12.9\": {\"frequency\": 1, \"value\": 12.9}, \"1.6\": {\"frequency\": 3, \"value\": 1.6}, \"0.2\": {\"frequency\": 2, \"value\": 0.2}, \"2.7\": {\"frequency\": 2, \"value\": 2.7}, \"1.4\": {\"frequency\": 1, \"value\": 1.4}, \"5.2\": {\"frequency\": 2, \"value\": 5.2}, \"-5.1\": {\"frequency\": 2, \"value\": -5.1}, \"-0.7\": {\"frequency\": 2, \"value\": -0.7}, \"1.2\": {\"frequency\": 1, \"value\": 1.2}, \"-1.6\": {\"frequency\": 1, \"value\": -1.6}, \"5.8\": {\"frequency\": 1, \"value\": 5.8}, \"3.1\": {\"frequency\": 1, \"value\": 3.1}, \"4.8\": {\"frequency\": 1, \"value\": 4.8}, \"-1.7\": {\"frequency\": 1, \"value\": -1.7}, \"5.3\": {\"frequency\": 1, \"value\": 5.3}, \"2.3\": {\"frequency\": 1, \"value\": 2.3}, \"3.4\": {\"frequency\": 1, \"value\": 3.4}, \"5.9\": {\"frequency\": 1, \"value\": 5.9}, \"-1.0\": {\"frequency\": 2, \"value\": -1.0}}, \"mean\": 2.479591836734694}, \"County\": {\"complete\": true, \"numeric\": false, \"num_unique\": 5, \"num_undefined\": 0, \"progress\": 1.0, \"frequent_items\": {\"Bucks\": {\"frequency\": 19, \"value\": \"Bucks\"}, \"Montgome\": {\"frequency\": 29, \"value\": \"Montgome\"}, \"Delaware\": {\"frequency\": 26, \"value\": \"Delaware\"}, \"Chester\": {\"frequency\": 17, \"value\": \"Chester\"}, \"Phila\": {\"frequency\": 8, \"value\": \"Phila\"}}, \"size\": 99}, \"HousePrice\": {\"std\": 86205.4525467166, \"complete\": true, \"min\": 28000.0, \"max\": 475112.0, \"quantile\": [28000.0, 28000.0, 38000.0, 38000.0, 40642.0, 42000.0, 60000.0, 60000.0, 61800.0, 71359.0, 71981.0, 74308.0, 74502.0, 77370.0, 78175.0, 79124.0, 89246.0, 92215.0, 92634.0, 93648.0, 93738.0, 94014.0, 95831.0, 96200.0, 96769.0, 97167.0, 99843.0, 100231.0, 103087.0, 104923.0, 110490.0, 112471.0, 113033.0, 114157.0, 114233.0, 114572.0, 116710.0, 118214.0, 119566.0, 121024.0, 122392.0, 124186.0, 124478.0, 126160.0, 130088.0, 130436.0, 130953.0, 131025.0, 133198.0, 134342.0, 140463.0, 142811.0, 143072.0, 147176.0, 147600.0, 147720.0, 149844.0, 150283.0, 152624.0, 153842.0, 156035.0, 157446.0, 159573.0, 163001.0, 168276.0, 169401.0, 170556.0, 170822.0, 174232.0, 178105.0, 185404.0, 189959.0, 190317.0, 194435.0, 195145.0, 196515.0, 197214.0, 199065.0, 200498.0, 205732.0, 206127.0, 210884.0, 215512.0, 215783.0, 229711.0, 232714.0, 242821.0, 245920.0, 259506.0, 264298.0, 271804.0, 272790.0, 280969.0, 297342.0, 299621.0, 359112.0, 389302.0, 436348.0, 436348.0, 475112.0, 475112.0], \"median\": 140463.0, \"numeric\": true, \"num_unique\": 96, \"num_undefined\": 0, \"var\": 7431380048.784206, \"progress\": 1.0, \"size\": 99, \"frequent_items\": {\"96769\": {\"frequency\": 1, \"value\": 96769}, \"99843\": {\"frequency\": 1, \"value\": 99843}, \"189959\": {\"frequency\": 1, \"value\": 189959}, \"42000\": {\"frequency\": 1, \"value\": 42000}, \"130953\": {\"frequency\": 1, \"value\": 130953}, \"122392\": {\"frequency\": 1, \"value\": 122392}, \"103087\": {\"frequency\": 1, \"value\": 103087}, \"157446\": {\"frequency\": 1, \"value\": 157446}, \"130088\": {\"frequency\": 1, \"value\": 130088}, \"93738\": {\"frequency\": 1, \"value\": 93738}, \"152624\": {\"frequency\": 1, \"value\": 152624}, \"92215\": {\"frequency\": 1, \"value\": 92215}, \"114233\": {\"frequency\": 1, \"value\": 114233}, \"77370\": {\"frequency\": 1, \"value\": 77370}, \"170556\": {\"frequency\": 1, \"value\": 170556}, \"124478\": {\"frequency\": 1, \"value\": 124478}, \"74308\": {\"frequency\": 1, \"value\": 74308}, \"195145\": {\"frequency\": 1, \"value\": 195145}, \"133198\": {\"frequency\": 1, \"value\": 133198}, \"95831\": {\"frequency\": 1, \"value\": 95831}, \"197214\": {\"frequency\": 1, \"value\": 197214}, \"60000\": {\"frequency\": 2, \"value\": 60000}, \"169401\": {\"frequency\": 1, \"value\": 169401}, \"299621\": {\"frequency\": 1, \"value\": 299621}, \"264298\": {\"frequency\": 1, \"value\": 264298}, \"38000\": {\"frequency\": 2, \"value\": 38000}, \"436348\": {\"frequency\": 2, \"value\": 436348}, \"242821\": {\"frequency\": 1, \"value\": 242821}, \"147600\": {\"frequency\": 1, \"value\": 147600}, \"174232\": {\"frequency\": 1, \"value\": 174232}, \"89246\": {\"frequency\": 1, \"value\": 89246}, \"245920\": {\"frequency\": 1, \"value\": 245920}, \"140463\": {\"frequency\": 1, \"value\": 140463}, \"389302\": {\"frequency\": 1, \"value\": 389302}, \"163001\": {\"frequency\": 1, \"value\": 163001}, \"71359\": {\"frequency\": 1, \"value\": 71359}, \"121024\": {\"frequency\": 1, \"value\": 121024}, \"40642\": {\"frequency\": 1, \"value\": 40642}, \"134342\": {\"frequency\": 1, \"value\": 134342}, \"359112\": {\"frequency\": 1, \"value\": 359112}, \"126160\": {\"frequency\": 1, \"value\": 126160}, \"143072\": {\"frequency\": 1, \"value\": 143072}, \"215783\": {\"frequency\": 1, \"value\": 215783}, \"147176\": {\"frequency\": 1, \"value\": 147176}, \"153842\": {\"frequency\": 1, \"value\": 153842}, \"74502\": {\"frequency\": 1, \"value\": 74502}, \"147720\": {\"frequency\": 1, \"value\": 147720}, \"232714\": {\"frequency\": 1, \"value\": 232714}, \"150283\": {\"frequency\": 1, \"value\": 150283}, \"119566\": {\"frequency\": 1, \"value\": 119566}, \"156035\": {\"frequency\": 1, \"value\": 156035}, \"79124\": {\"frequency\": 1, \"value\": 79124}, \"124186\": {\"frequency\": 1, \"value\": 124186}, \"104923\": {\"frequency\": 1, \"value\": 104923}, \"71981\": {\"frequency\": 1, \"value\": 71981}, \"206127\": {\"frequency\": 1, \"value\": 206127}, \"200498\": {\"frequency\": 1, \"value\": 200498}, \"113033\": {\"frequency\": 1, \"value\": 113033}, \"94014\": {\"frequency\": 1, \"value\": 94014}, \"170822\": {\"frequency\": 1, \"value\": 170822}, \"229711\": {\"frequency\": 1, \"value\": 229711}, \"149844\": {\"frequency\": 1, \"value\": 149844}, \"159573\": {\"frequency\": 1, \"value\": 159573}, \"112471\": {\"frequency\": 1, \"value\": 112471}, \"78175\": {\"frequency\": 1, \"value\": 78175}, \"28000\": {\"frequency\": 1, \"value\": 28000}, \"61800\": {\"frequency\": 1, \"value\": 61800}, \"185404\": {\"frequency\": 1, \"value\": 185404}, \"190317\": {\"frequency\": 1, \"value\": 190317}, \"297342\": {\"frequency\": 1, \"value\": 297342}, \"194435\": {\"frequency\": 1, \"value\": 194435}, \"130436\": {\"frequency\": 1, \"value\": 130436}, \"100231\": {\"frequency\": 1, \"value\": 100231}, \"280969\": {\"frequency\": 1, \"value\": 280969}, \"114572\": {\"frequency\": 1, \"value\": 114572}, \"97167\": {\"frequency\": 1, \"value\": 97167}, \"272790\": {\"frequency\": 1, \"value\": 272790}, \"199065\": {\"frequency\": 1, \"value\": 199065}, \"110490\": {\"frequency\": 1, \"value\": 110490}, \"196515\": {\"frequency\": 1, \"value\": 196515}, \"205732\": {\"frequency\": 1, \"value\": 205732}, \"259506\": {\"frequency\": 1, \"value\": 259506}, \"178105\": {\"frequency\": 1, \"value\": 178105}, \"271804\": {\"frequency\": 1, \"value\": 271804}, \"210884\": {\"frequency\": 1, \"value\": 210884}, \"118214\": {\"frequency\": 1, \"value\": 118214}, \"96200\": {\"frequency\": 1, \"value\": 96200}, \"93648\": {\"frequency\": 1, \"value\": 93648}, \"131025\": {\"frequency\": 1, \"value\": 131025}, \"215512\": {\"frequency\": 1, \"value\": 215512}, \"92634\": {\"frequency\": 1, \"value\": 92634}, \"142811\": {\"frequency\": 1, \"value\": 142811}, \"116710\": {\"frequency\": 1, \"value\": 116710}, \"475112\": {\"frequency\": 1, \"value\": 475112}, \"114157\": {\"frequency\": 1, \"value\": 114157}, \"168276\": {\"frequency\": 1, \"value\": 168276}}, \"mean\": 157835.6060606061}, \"MilesPhila\": {\"std\": 9.05347793435688, \"complete\": true, \"min\": 0.0, \"max\": 50.0, \"quantile\": [0.0, 0.0, 2.0, 4.0, 4.5, 5.5, 7.0, 7.0, 8.0, 8.0, 9.0, 9.0, 9.0, 10.0, 10.0, 10.0, 10.0, 10.0, 10.0, 10.0, 10.0, 12.0, 12.0, 12.0, 12.0, 12.0, 14.0, 14.0, 14.0, 14.0, 15.0, 15.0, 15.0, 15.0, 15.0, 15.0, 15.0, 15.0, 15.0, 15.0, 16.0, 17.0, 17.0, 18.0, 18.0, 19.0, 19.0, 19.0, 19.0, 19.0, 20.0, 20.0, 20.0, 20.0, 20.0, 20.0, 20.0, 20.0, 20.0, 20.0, 20.0, 21.0, 21.0, 21.0, 22.0, 22.0, 22.0, 22.0, 22.0, 22.0, 23.0, 23.0, 23.0, 24.0, 24.0, 25.0, 25.0, 25.0, 25.0, 25.0, 25.0, 25.0, 26.0, 26.0, 26.0, 26.0, 30.0, 30.0, 31.0, 32.0, 32.0, 32.0, 35.0, 35.0, 36.0, 36.0, 38.0, 40.0, 41.0, 50.0, 50.0], \"median\": 20.0, \"numeric\": true, \"num_unique\": 32, \"num_undefined\": 0, \"var\": 81.96546270788694, \"progress\": 1.0, \"size\": 99, \"frequent_items\": {\"5.5\": {\"frequency\": 1, \"value\": 5.5}, \"4.5\": {\"frequency\": 1, \"value\": 4.5}, \"2.0\": {\"frequency\": 1, \"value\": 2.0}, \"4.0\": {\"frequency\": 1, \"value\": 4.0}, \"0.0\": {\"frequency\": 1, \"value\": 0.0}, \"7.0\": {\"frequency\": 2, \"value\": 7.0}, \"8.0\": {\"frequency\": 2, \"value\": 8.0}, \"9.0\": {\"frequency\": 3, \"value\": 9.0}, \"10.0\": {\"frequency\": 8, \"value\": 10.0}, \"12.0\": {\"frequency\": 5, \"value\": 12.0}, \"14.0\": {\"frequency\": 4, \"value\": 14.0}, \"15.0\": {\"frequency\": 10, \"value\": 15.0}, \"16.0\": {\"frequency\": 1, \"value\": 16.0}, \"17.0\": {\"frequency\": 2, \"value\": 17.0}, \"18.0\": {\"frequency\": 2, \"value\": 18.0}, \"19.0\": {\"frequency\": 5, \"value\": 19.0}, \"20.0\": {\"frequency\": 11, \"value\": 20.0}, \"21.0\": {\"frequency\": 3, \"value\": 21.0}, \"22.0\": {\"frequency\": 6, \"value\": 22.0}, \"23.0\": {\"frequency\": 3, \"value\": 23.0}, \"24.0\": {\"frequency\": 2, \"value\": 24.0}, \"25.0\": {\"frequency\": 7, \"value\": 25.0}, \"26.0\": {\"frequency\": 4, \"value\": 26.0}, \"30.0\": {\"frequency\": 2, \"value\": 30.0}, \"31.0\": {\"frequency\": 1, \"value\": 31.0}, \"32.0\": {\"frequency\": 3, \"value\": 32.0}, \"35.0\": {\"frequency\": 2, \"value\": 35.0}, \"36.0\": {\"frequency\": 2, \"value\": 36.0}, \"38.0\": {\"frequency\": 1, \"value\": 38.0}, \"40.0\": {\"frequency\": 1, \"value\": 40.0}, \"41.0\": {\"frequency\": 1, \"value\": 41.0}, \"50.0\": {\"frequency\": 1, \"value\": 50.0}}, \"mean\": 19.28282828282828}, \"HsPrc ($10,000)\": {\"std\": 8.620545254671658, \"complete\": true, \"min\": 2.8, \"max\": 47.5112, \"quantile\": [2.8, 2.8, 3.8, 3.8, 4.0642, 4.2, 6.0, 6.0, 6.18, 7.1359, 7.1981, 7.4308, 7.4502, 7.737, 7.8175, 7.9124, 8.9246, 9.2215, 9.2634, 9.3648, 9.3738, 9.4014, 9.5831, 9.62, 9.6769, 9.7167, 9.9843, 10.0231, 10.3087, 10.4923, 11.049, 11.2471, 11.3033, 11.4157, 11.4233, 11.4572, 11.671, 11.8214, 11.9566, 12.1024, 12.2392, 12.4186, 12.4478, 12.616, 13.0088, 13.0436, 13.0953, 13.1025, 13.3198, 13.4342, 14.0463, 14.2811, 14.3072, 14.7176, 14.76, 14.772, 14.9844, 15.0283, 15.2624, 15.3842, 15.6035, 15.7446, 15.9573, 16.3001, 16.8276, 16.9401, 17.0556, 17.0822, 17.4232, 17.8105, 18.5404, 18.9959, 19.0317, 19.4435, 19.5145, 19.6515, 19.7214, 19.9065, 20.0498, 20.5732, 20.6127, 21.0884, 21.5512, 21.5783, 22.9711, 23.2714, 24.2821, 24.592, 25.9506, 26.4298, 27.1804, 27.279, 28.0969, 29.7342, 29.9621, 35.9112, 38.9302, 43.6348, 43.6348, 47.5112, 47.5112], \"median\": 14.0463, \"numeric\": true, \"num_unique\": 96, \"num_undefined\": 0, \"var\": 74.31380048784204, \"progress\": 1.0, \"size\": 99, \"frequent_items\": {\"47.5112\": {\"frequency\": 1, \"value\": 47.5112}, \"6.0\": {\"frequency\": 2, \"value\": 6.0}, \"22.9711\": {\"frequency\": 1, \"value\": 22.9711}, \"25.9506\": {\"frequency\": 1, \"value\": 25.9506}, \"11.049\": {\"frequency\": 1, \"value\": 11.049}, \"29.7342\": {\"frequency\": 1, \"value\": 29.7342}, \"11.8214\": {\"frequency\": 1, \"value\": 11.8214}, \"12.4478\": {\"frequency\": 1, \"value\": 12.4478}, \"27.279\": {\"frequency\": 1, \"value\": 27.279}, \"17.0822\": {\"frequency\": 1, \"value\": 17.0822}, \"9.3648\": {\"frequency\": 1, \"value\": 9.3648}, \"9.5831\": {\"frequency\": 1, \"value\": 9.5831}, \"14.772\": {\"frequency\": 1, \"value\": 14.772}, \"16.8276\": {\"frequency\": 1, \"value\": 16.8276}, \"29.9621\": {\"frequency\": 1, \"value\": 29.9621}, \"11.4572\": {\"frequency\": 1, \"value\": 11.4572}, \"43.6348\": {\"frequency\": 2, \"value\": 43.6348}, \"7.737\": {\"frequency\": 1, \"value\": 7.737}, \"11.4157\": {\"frequency\": 1, \"value\": 11.4157}, \"14.0463\": {\"frequency\": 1, \"value\": 14.0463}, \"7.4308\": {\"frequency\": 1, \"value\": 7.4308}, \"11.3033\": {\"frequency\": 1, \"value\": 11.3033}, \"9.62\": {\"frequency\": 1, \"value\": 9.62}, \"4.0642\": {\"frequency\": 1, \"value\": 4.0642}, \"18.5404\": {\"frequency\": 1, \"value\": 18.5404}, \"13.0953\": {\"frequency\": 1, \"value\": 13.0953}, \"9.9843\": {\"frequency\": 1, \"value\": 9.9843}, \"19.7214\": {\"frequency\": 1, \"value\": 19.7214}, \"8.9246\": {\"frequency\": 1, \"value\": 8.9246}, \"7.9124\": {\"frequency\": 1, \"value\": 7.9124}, \"20.0498\": {\"frequency\": 1, \"value\": 20.0498}, \"27.1804\": {\"frequency\": 1, \"value\": 27.1804}, \"35.9112\": {\"frequency\": 1, \"value\": 35.9112}, \"19.6515\": {\"frequency\": 1, \"value\": 19.6515}, \"24.2821\": {\"frequency\": 1, \"value\": 24.2821}, \"15.7446\": {\"frequency\": 1, \"value\": 15.7446}, \"9.3738\": {\"frequency\": 1, \"value\": 9.3738}, \"19.4435\": {\"frequency\": 1, \"value\": 19.4435}, \"7.8175\": {\"frequency\": 1, \"value\": 7.8175}, \"7.1981\": {\"frequency\": 1, \"value\": 7.1981}, \"7.4502\": {\"frequency\": 1, \"value\": 7.4502}, \"20.5732\": {\"frequency\": 1, \"value\": 20.5732}, \"13.0436\": {\"frequency\": 1, \"value\": 13.0436}, \"10.4923\": {\"frequency\": 1, \"value\": 10.4923}, \"10.0231\": {\"frequency\": 1, \"value\": 10.0231}, \"14.7176\": {\"frequency\": 1, \"value\": 14.7176}, \"19.5145\": {\"frequency\": 1, \"value\": 19.5145}, \"12.1024\": {\"frequency\": 1, \"value\": 12.1024}, \"14.9844\": {\"frequency\": 1, \"value\": 14.9844}, \"11.4233\": {\"frequency\": 1, \"value\": 11.4233}, \"15.2624\": {\"frequency\": 1, \"value\": 15.2624}, \"38.9302\": {\"frequency\": 1, \"value\": 38.9302}, \"4.2\": {\"frequency\": 1, \"value\": 4.2}, \"17.0556\": {\"frequency\": 1, \"value\": 17.0556}, \"18.9959\": {\"frequency\": 1, \"value\": 18.9959}, \"9.4014\": {\"frequency\": 1, \"value\": 9.4014}, \"9.7167\": {\"frequency\": 1, \"value\": 9.7167}, \"14.3072\": {\"frequency\": 1, \"value\": 14.3072}, \"14.76\": {\"frequency\": 1, \"value\": 14.76}, \"9.6769\": {\"frequency\": 1, \"value\": 9.6769}, \"13.3198\": {\"frequency\": 1, \"value\": 13.3198}, \"24.592\": {\"frequency\": 1, \"value\": 24.592}, \"17.4232\": {\"frequency\": 1, \"value\": 17.4232}, \"15.0283\": {\"frequency\": 1, \"value\": 15.0283}, \"14.2811\": {\"frequency\": 1, \"value\": 14.2811}, \"12.616\": {\"frequency\": 1, \"value\": 12.616}, \"16.3001\": {\"frequency\": 1, \"value\": 16.3001}, \"15.9573\": {\"frequency\": 1, \"value\": 15.9573}, \"15.3842\": {\"frequency\": 1, \"value\": 15.3842}, \"9.2634\": {\"frequency\": 1, \"value\": 9.2634}, \"7.1359\": {\"frequency\": 1, \"value\": 7.1359}, \"11.671\": {\"frequency\": 1, \"value\": 11.671}, \"26.4298\": {\"frequency\": 1, \"value\": 26.4298}, \"13.1025\": {\"frequency\": 1, \"value\": 13.1025}, \"21.0884\": {\"frequency\": 1, \"value\": 21.0884}, \"19.9065\": {\"frequency\": 1, \"value\": 19.9065}, \"11.2471\": {\"frequency\": 1, \"value\": 11.2471}, \"16.9401\": {\"frequency\": 1, \"value\": 16.9401}, \"3.8\": {\"frequency\": 2, \"value\": 3.8}, \"2.8\": {\"frequency\": 1, \"value\": 2.8}, \"20.6127\": {\"frequency\": 1, \"value\": 20.6127}, \"6.18\": {\"frequency\": 1, \"value\": 6.18}, \"12.2392\": {\"frequency\": 1, \"value\": 12.2392}, \"10.3087\": {\"frequency\": 1, \"value\": 10.3087}, \"17.8105\": {\"frequency\": 1, \"value\": 17.8105}, \"12.4186\": {\"frequency\": 1, \"value\": 12.4186}, \"13.0088\": {\"frequency\": 1, \"value\": 13.0088}, \"28.0969\": {\"frequency\": 1, \"value\": 28.0969}, \"21.5512\": {\"frequency\": 1, \"value\": 21.5512}, \"9.2215\": {\"frequency\": 1, \"value\": 9.2215}, \"15.6035\": {\"frequency\": 1, \"value\": 15.6035}, \"13.4342\": {\"frequency\": 1, \"value\": 13.4342}, \"21.5783\": {\"frequency\": 1, \"value\": 21.5783}, \"23.2714\": {\"frequency\": 1, \"value\": 23.2714}, \"11.9566\": {\"frequency\": 1, \"value\": 11.9566}, \"19.0317\": {\"frequency\": 1, \"value\": 19.0317}}, \"mean\": 15.783560606060608}, \"CrimeRate\": {\"std\": 37.350826064946745, \"complete\": true, \"min\": 6.6, \"max\": 366.1, \"quantile\": [6.6, 6.6, 7.1, 7.2, 9.4, 9.8, 9.9, 10.8, 11.2, 12.5, 13.0, 13.0, 13.2, 13.8, 14.5, 14.5, 14.6, 15.2, 15.3, 15.5, 15.7, 15.9, 16.5, 17.3, 17.3, 17.4, 17.4, 17.5, 17.7, 17.8, 18.2, 18.8, 19.3, 19.4, 19.4, 19.4, 19.5, 20.2, 20.4, 20.8, 21.2, 21.2, 21.4, 22.1, 22.1, 22.3, 22.6, 24.0, 24.1, 24.1, 24.1, 24.6, 24.9, 25.1, 26.6, 27.2, 28.6, 28.6, 28.6, 29.0, 29.3, 29.3, 29.7, 29.9, 29.9, 30.8, 31.2, 31.3, 31.9, 33.7, 34.2, 34.5, 36.1, 38.0, 39.5, 40.1, 41.1, 42.8, 44.6, 44.9, 45.1, 45.7, 45.8, 48.1, 48.6, 49.4, 49.9, 50.3, 53.2, 53.5, 54.1, 54.8, 58.6, 61.7, 65.0, 69.9, 71.9, 71.9, 73.3, 366.1, 366.1], \"median\": 24.1, \"numeric\": true, \"num_unique\": 84, \"num_undefined\": 0, \"var\": 1395.084207733905, \"progress\": 1.0, \"size\": 99, \"frequent_items\": {\"19.5\": {\"frequency\": 1, \"value\": 19.5}, \"17.5\": {\"frequency\": 1, \"value\": 17.5}, \"33.7\": {\"frequency\": 1, \"value\": 33.7}, \"44.9\": {\"frequency\": 1, \"value\": 44.9}, \"12.5\": {\"frequency\": 1, \"value\": 12.5}, \"26.6\": {\"frequency\": 1, \"value\": 26.6}, \"17.7\": {\"frequency\": 1, \"value\": 17.7}, \"17.3\": {\"frequency\": 2, \"value\": 17.3}, \"15.9\": {\"frequency\": 1, \"value\": 15.9}, \"13.0\": {\"frequency\": 2, \"value\": 13.0}, \"29.3\": {\"frequency\": 2, \"value\": 29.3}, \"24.6\": {\"frequency\": 1, \"value\": 24.6}, \"11.2\": {\"frequency\": 1, \"value\": 11.2}, \"13.8\": {\"frequency\": 1, \"value\": 13.8}, \"20.4\": {\"frequency\": 1, \"value\": 20.4}, \"21.2\": {\"frequency\": 2, \"value\": 21.2}, \"7.1\": {\"frequency\": 1, \"value\": 7.1}, \"24.0\": {\"frequency\": 1, \"value\": 24.0}, \"24.9\": {\"frequency\": 1, \"value\": 24.9}, \"6.6\": {\"frequency\": 1, \"value\": 6.6}, \"20.8\": {\"frequency\": 1, \"value\": 20.8}, \"29.0\": {\"frequency\": 1, \"value\": 29.0}, \"14.5\": {\"frequency\": 2, \"value\": 14.5}, \"21.4\": {\"frequency\": 1, \"value\": 21.4}, \"17.8\": {\"frequency\": 1, \"value\": 17.8}, \"69.9\": {\"frequency\": 1, \"value\": 69.9}, \"15.5\": {\"frequency\": 1, \"value\": 15.5}, \"54.1\": {\"frequency\": 1, \"value\": 54.1}, \"38.0\": {\"frequency\": 1, \"value\": 38.0}, \"25.1\": {\"frequency\": 1, \"value\": 25.1}, \"45.7\": {\"frequency\": 1, \"value\": 45.7}, \"18.2\": {\"frequency\": 1, \"value\": 18.2}, \"29.9\": {\"frequency\": 2, \"value\": 29.9}, \"30.8\": {\"frequency\": 1, \"value\": 30.8}, \"58.6\": {\"frequency\": 1, \"value\": 58.6}, \"50.3\": {\"frequency\": 1, \"value\": 50.3}, \"44.6\": {\"frequency\": 1, \"value\": 44.6}, \"19.3\": {\"frequency\": 1, \"value\": 19.3}, \"15.2\": {\"frequency\": 1, \"value\": 15.2}, \"34.5\": {\"frequency\": 1, \"value\": 34.5}, \"48.6\": {\"frequency\": 1, \"value\": 48.6}, \"31.9\": {\"frequency\": 1, \"value\": 31.9}, \"16.5\": {\"frequency\": 1, \"value\": 16.5}, \"9.8\": {\"frequency\": 1, \"value\": 9.8}, \"65.0\": {\"frequency\": 1, \"value\": 65.0}, \"7.2\": {\"frequency\": 1, \"value\": 7.2}, \"53.2\": {\"frequency\": 1, \"value\": 53.2}, \"15.7\": {\"frequency\": 1, \"value\": 15.7}, \"71.9\": {\"frequency\": 2, \"value\": 71.9}, \"29.7\": {\"frequency\": 1, \"value\": 29.7}, \"49.4\": {\"frequency\": 1, \"value\": 49.4}, \"10.8\": {\"frequency\": 1, \"value\": 10.8}, \"54.8\": {\"frequency\": 1, \"value\": 54.8}, \"14.6\": {\"frequency\": 1, \"value\": 14.6}, \"31.3\": {\"frequency\": 1, \"value\": 31.3}, \"22.1\": {\"frequency\": 2, \"value\": 22.1}, \"40.1\": {\"frequency\": 1, \"value\": 40.1}, \"19.4\": {\"frequency\": 3, \"value\": 19.4}, \"34.2\": {\"frequency\": 1, \"value\": 34.2}, \"53.5\": {\"frequency\": 1, \"value\": 53.5}, \"28.6\": {\"frequency\": 3, \"value\": 28.6}, \"39.5\": {\"frequency\": 1, \"value\": 39.5}, \"9.4\": {\"frequency\": 1, \"value\": 9.4}, \"366.1\": {\"frequency\": 1, \"value\": 366.1}, \"22.6\": {\"frequency\": 1, \"value\": 22.6}, \"61.7\": {\"frequency\": 1, \"value\": 61.7}, \"15.3\": {\"frequency\": 1, \"value\": 15.3}, \"36.1\": {\"frequency\": 1, \"value\": 36.1}, \"48.1\": {\"frequency\": 1, \"value\": 48.1}, \"42.8\": {\"frequency\": 1, \"value\": 42.8}, \"41.1\": {\"frequency\": 1, \"value\": 41.1}, \"18.8\": {\"frequency\": 1, \"value\": 18.8}, \"20.2\": {\"frequency\": 1, \"value\": 20.2}, \"13.2\": {\"frequency\": 1, \"value\": 13.2}, \"17.4\": {\"frequency\": 2, \"value\": 17.4}, \"45.1\": {\"frequency\": 1, \"value\": 45.1}, \"27.2\": {\"frequency\": 1, \"value\": 27.2}, \"24.1\": {\"frequency\": 3, \"value\": 24.1}, \"45.8\": {\"frequency\": 1, \"value\": 45.8}, \"73.3\": {\"frequency\": 1, \"value\": 73.3}, \"9.9\": {\"frequency\": 1, \"value\": 9.9}, \"22.3\": {\"frequency\": 1, \"value\": 22.3}, \"49.9\": {\"frequency\": 1, \"value\": 49.9}, \"31.2\": {\"frequency\": 1, \"value\": 31.2}}, \"mean\": 32.57676767676768}}, \"selected_variable\": {\"name\": [\"sf\"], \"descriptives\": {\"rows\": 99, \"columns\": 7}, \"view_component\": \"Summary\", \"view_file\": \"sframe\", \"view_params\": {\"y\": null, \"x\": null, \"columns\": [\"HousePrice\", \"HsPrc ($10,000)\", \"CrimeRate\", \"MilesPhila\", \"PopChg\", \"Name\", \"County\"], \"view\": \"Summary\"}, \"view_components\": [\"Summary\", \"Table\", \"Bar Chart\", \"BoxWhisker Plot\", \"Line Chart\", \"Scatter Plot\", \"Heat Map\", \"Plots\"], \"type\": \"SFrame\", \"columns\": [{\"dtype\": \"int\", \"name\": \"HousePrice\"}, {\"dtype\": \"float\", \"name\": \"HsPrc ($10,000)\"}, {\"dtype\": \"float\", \"name\": \"CrimeRate\"}, {\"dtype\": \"float\", \"name\": \"MilesPhila\"}, {\"dtype\": \"float\", \"name\": \"PopChg\"}, {\"dtype\": \"str\", \"name\": \"Name\"}, {\"dtype\": \"str\", \"name\": \"County\"}], \"column_identifiers\": [\"Name\", \"PopChg\", \"County\", \"HousePrice\", \"MilesPhila\", \"HsPrc ($10,000)\", \"CrimeRate\"]}, \"columns\": [{\"dtype\": \"int\", \"name\": \"HousePrice\"}, {\"dtype\": \"float\", \"name\": \"HsPrc ($10,000)\"}, {\"dtype\": \"float\", \"name\": \"CrimeRate\"}, {\"dtype\": \"float\", \"name\": \"MilesPhila\"}, {\"dtype\": \"float\", \"name\": \"PopChg\"}, {\"dtype\": \"str\", \"name\": \"Name\"}, {\"dtype\": \"str\", \"name\": \"County\"}]}, e);\n",
       "                });\n",
       "            })();\n",
       "        "
      ]
     },
     "metadata": {},
     "output_type": "display_data"
    }
   ],
   "source": [
    "graphlab.canvas.set_target('ipynb')\n",
    "sf.show(view = 'Summary')"
   ]
  },
  {
   "cell_type": "markdown",
   "metadata": {},
   "source": [
    "Fit the Regression Model using Crime as the feature"
   ]
  },
  {
   "cell_type": "code",
   "execution_count": 9,
   "metadata": {},
   "outputs": [],
   "source": [
    "crime_model = graphlab.linear_regression.create(sf,target='HousePrice',features=['CrimeRate'],validation_set=None, verbose=False)"
   ]
  },
  {
   "cell_type": "markdown",
   "metadata": {},
   "source": [
    "Let's see what our fit looks like"
   ]
  },
  {
   "cell_type": "code",
   "execution_count": 10,
   "metadata": {},
   "outputs": [],
   "source": [
    "import matplotlib.pyplot as plt\n",
    "%matplotlib inline"
   ]
  },
  {
   "cell_type": "code",
   "execution_count": 12,
   "metadata": {},
   "outputs": [
    {
     "data": {
      "text/plain": [
       "[<matplotlib.lines.Line2D at 0x4b1f4c48>,\n",
       " <matplotlib.lines.Line2D at 0x4b2f9f88>]"
      ]
     },
     "execution_count": 12,
     "metadata": {},
     "output_type": "execute_result"
    },
    {
     "data": {
      "image/png": "[encoded data removed]",
      "text/plain": [
       "<Figure size 432x288 with 1 Axes>"
      ]
     },
     "metadata": {
      "needs_background": "light"
     },
     "output_type": "display_data"
    }
   ],
   "source": [
    "plt.plot(sf['CrimeRate'],sf['HousePrice'],'.',\n",
    "        sf['CrimeRate'],crime_model.predict(sf),'-')"
   ]
  },
  {
   "cell_type": "markdown",
   "metadata": {},
   "source": [
    "Remove Center City and Redo the Analysis"
   ]
  },
  {
   "cell_type": "code",
   "execution_count": 15,
   "metadata": {},
   "outputs": [
    {
     "data": {
      "application/javascript": [
       "$(\"head\").append($(\"<link/>\").attr({\n",
       "  rel:  \"stylesheet\",\n",
       "  type: \"text/css\",\n",
       "  href: \"//cdnjs.cloudflare.com/ajax/libs/font-awesome/4.1.0/css/font-awesome.min.css\"\n",
       "}));\n",
       "$(\"head\").append($(\"<link/>\").attr({\n",
       "  rel:  \"stylesheet\",\n",
       "  type: \"text/css\",\n",
       "  href: \"https://static.turi.com/products/graphlab-create/2.1/canvas/css/canvas.css\"\n",
       "}));\n",
       "\n",
       "            (function(){\n",
       "\n",
       "                var e = null;\n",
       "                if (typeof element == 'undefined') {\n",
       "                    var scripts = document.getElementsByTagName('script');\n",
       "                    var thisScriptTag = scripts[scripts.length-1];\n",
       "                    var parentDiv = thisScriptTag.parentNode;\n",
       "                    e = document.createElement('div');\n",
       "                    parentDiv.appendChild(e);\n",
       "                } else {\n",
       "                    e = element[0];\n",
       "                }\n",
       "\n",
       "                if (typeof requirejs !== 'undefined') {\n",
       "                    // disable load timeout; ipython_app.js is large and can take a while to load.\n",
       "                    requirejs.config({waitSeconds: 0});\n",
       "                }\n",
       "\n",
       "                require(['https://static.turi.com/products/graphlab-create/2.1/canvas/js/ipython_app.js'], function(IPythonApp){\n",
       "                    var app = new IPythonApp();\n",
       "                    app.attachView('sframe','Plots', {\"selected_variable\": {\"name\": [\"sf_noCC\"], \"descriptives\": {\"rows\": 98, \"columns\": 7}, \"view_component\": \"Plots\", \"view_file\": \"sframe\", \"view_params\": {\"y\": \"HousePrice\", \"x\": \"CrimeRate\", \"columns\": [\"HousePrice\", \"HsPrc ($10,000)\", \"CrimeRate\", \"MilesPhila\", \"PopChg\", \"Name\", \"County\"], \"view\": \"Scatter Plot\"}, \"view_components\": [\"Summary\", \"Table\", \"Bar Chart\", \"BoxWhisker Plot\", \"Line Chart\", \"Scatter Plot\", \"Heat Map\", \"Plots\"], \"type\": \"SFrame\", \"columns\": [{\"dtype\": \"int\", \"name\": \"HousePrice\"}, {\"dtype\": \"float\", \"name\": \"HsPrc ($10,000)\"}, {\"dtype\": \"float\", \"name\": \"CrimeRate\"}, {\"dtype\": \"float\", \"name\": \"MilesPhila\"}, {\"dtype\": \"float\", \"name\": \"PopChg\"}, {\"dtype\": \"str\", \"name\": \"Name\"}, {\"dtype\": \"str\", \"name\": \"County\"}], \"column_identifiers\": [\"Name\", \"PopChg\", \"County\", \"HousePrice\", \"MilesPhila\", \"HsPrc ($10,000)\", \"CrimeRate\"]}, \"complete\": 1, \"ipython\": true, \"progress\": 1.0, \"data\": [[29.7, 140463], [24.1, 113033], [19.5, 124186], [49.4, 110490], [54.1, 79124], [48.6, 92634], [30.8, 89246], [10.8, 195145], [20.2, 297342], [20.4, 264298], [17.3, 134342], [50.3, 147600], [34.2, 77370], [33.7, 170822], [45.7, 40642], [22.3, 71359], [48.1, 104923], [19.4, 190317], [71.9, 215512], [45.1, 178105], [31.3, 131025], [24.9, 149844], [27.2, 170556], [17.7, 280969], [29.0, 114233], [21.4, 74502], [28.6, 475112], [29.3, 97167], [17.5, 114572], [16.5, 436348], [17.8, 389302], [17.3, 122392], [31.2, 130436], [14.5, 272790], [15.7, 194435], [28.6, 299621], [20.8, 210884], [29.3, 112471], [19.3, 93738], [39.5, 121024], [13.0, 156035], [24.1, 185404], [38.0, 126160], [40.1, 143072], [36.1, 96769], [26.6, 94014], [25.1, 118214], [14.6, 157446], [18.2, 150283], [15.3, 153842], [15.2, 197214], [17.4, 206127], [73.3, 71981], [7.1, 169401], [12.5, 99843], [45.8, 60000], [44.9, 28000], [65.0, 60000], [49.9, 61800], [54.8, 38000], [53.5, 38000], [69.9, 42000], [24.6, 103087], [58.6, 147720], [53.2, 78175], [17.4, 92215], [15.5, 271804], [14.5, 119566], [24.1, 100231], [21.2, 95831], [9.8, 229711], [29.9, 74308], [7.2, 259506], [19.4, 159573], [41.1, 147176], [11.2, 205732], [21.2, 215783], [42.8, 116710], [9.4, 359112], [61.7, 189959], [19.4, 133198], [6.6, 242821], [15.9, 142811], [18.8, 200498], [13.2, 199065], [34.5, 93648], [22.1, 163001], [22.1, 436348], [71.9, 124478], [31.9, 168276], [44.6, 114157], [28.6, 130088], [24.0, 152624], [13.8, 174232], [29.9, 196515], [9.9, 232714], [22.6, 245920], [13.0, 130953]], \"columns\": [{\"dtype\": \"int\", \"name\": \"HousePrice\"}, {\"dtype\": \"float\", \"name\": \"HsPrc ($10,000)\"}, {\"dtype\": \"float\", \"name\": \"CrimeRate\"}, {\"dtype\": \"float\", \"name\": \"MilesPhila\"}, {\"dtype\": \"float\", \"name\": \"PopChg\"}, {\"dtype\": \"str\", \"name\": \"Name\"}, {\"dtype\": \"str\", \"name\": \"County\"}]}, e);\n",
       "                });\n",
       "            })();\n",
       "        "
      ]
     },
     "metadata": {},
     "output_type": "display_data"
    }
   ],
   "source": [
    "sf_noCC = sf[sf['MilesPhila']!=0.0]\n",
    "sf_noCC.show(view='Scatter Plot', x='CrimeRate', y='HousePrice')"
   ]
  },
  {
   "cell_type": "markdown",
   "metadata": {},
   "source": [
    "Refit our simple regression model on this modified dataset"
   ]
  },
  {
   "cell_type": "code",
   "execution_count": 18,
   "metadata": {},
   "outputs": [],
   "source": [
    "crime_model_noCC = graphlab.linear_regression.create(sf_noCC, target='HousePrice', features=['CrimeRate'], validation_set=None, verbose=False)"
   ]
  },
  {
   "cell_type": "code",
   "execution_count": 19,
   "metadata": {},
   "outputs": [
    {
     "data": {
      "text/plain": [
       "[<matplotlib.lines.Line2D at 0x4b22cf08>,\n",
       " <matplotlib.lines.Line2D at 0x4c8217c8>]"
      ]
     },
     "execution_count": 19,
     "metadata": {},
     "output_type": "execute_result"
    },
    {
     "data": {
      "image/png": "[encoded data removed]",
      "text/plain": [
       "<Figure size 432x288 with 1 Axes>"
      ]
     },
     "metadata": {
      "needs_background": "light"
     },
     "output_type": "display_data"
    }
   ],
   "source": [
    "plt.plot(sf_noCC['CrimeRate'], sf_noCC['HousePrice'],'.',\n",
    "        sf_noCC['CrimeRate'],crime_model.predict(sf_noCC),'-')"
   ]
  },
  {
   "cell_type": "code",
   "execution_count": 20,
   "metadata": {},
   "outputs": [
    {
     "data": {
      "text/plain": [
       "[<matplotlib.lines.Line2D at 0x4b1f4948>,\n",
       " <matplotlib.lines.Line2D at 0x4b20c088>]"
      ]
     },
     "execution_count": 20,
     "metadata": {},
     "output_type": "execute_result"
    },
    {
     "data": {
      "image/png": "[encoded data removed]",
      "text/plain": [
       "<Figure size 432x288 with 1 Axes>"
      ]
     },
     "metadata": {
      "needs_background": "light"
     },
     "output_type": "display_data"
    }
   ],
   "source": [
    "plt.plot(sf_noCC['CrimeRate'], sf_noCC['HousePrice'],'.',\n",
    "        sf_noCC['CrimeRate'],crime_model_noCC.predict(sf_noCC),'-')"
   ]
  },
  {
   "cell_type": "markdown",
   "metadata": {},
   "source": [
    "Compare coefficients for full data fit versus no Centert City fit"
   ]
  },
  {
   "cell_type": "code",
   "execution_count": 27,
   "metadata": {},
   "outputs": [
    {
     "data": {
      "text/html": [
       "<div style=\"max-height:1000px;max-width:1500px;overflow:auto;\"><table frame=\"box\" rules=\"cols\">\n",
       "    <tr>\n",
       "        <th style=\"padding-left: 1em; padding-right: 1em; text-align: center\">name</th>\n",
       "        <th style=\"padding-left: 1em; padding-right: 1em; text-align: center\">index</th>\n",
       "        <th style=\"padding-left: 1em; padding-right: 1em; text-align: center\">value</th>\n",
       "        <th style=\"padding-left: 1em; padding-right: 1em; text-align: center\">stderr</th>\n",
       "    </tr>\n",
       "    <tr>\n",
       "        <td style=\"padding-left: 1em; padding-right: 1em; text-align: center; vertical-align: top\">(intercept)</td>\n",
       "        <td style=\"padding-left: 1em; padding-right: 1em; text-align: center; vertical-align: top\">None</td>\n",
       "        <td style=\"padding-left: 1em; padding-right: 1em; text-align: center; vertical-align: top\">176626.046881</td>\n",
       "        <td style=\"padding-left: 1em; padding-right: 1em; text-align: center; vertical-align: top\">11245.5882194</td>\n",
       "    </tr>\n",
       "    <tr>\n",
       "        <td style=\"padding-left: 1em; padding-right: 1em; text-align: center; vertical-align: top\">CrimeRate</td>\n",
       "        <td style=\"padding-left: 1em; padding-right: 1em; text-align: center; vertical-align: top\">None</td>\n",
       "        <td style=\"padding-left: 1em; padding-right: 1em; text-align: center; vertical-align: top\">-576.804949058</td>\n",
       "        <td style=\"padding-left: 1em; padding-right: 1em; text-align: center; vertical-align: top\">226.90225951</td>\n",
       "    </tr>\n",
       "</table>\n",
       "[2 rows x 4 columns]<br/>\n",
       "</div>"
      ],
      "text/plain": [
       "Columns:\n",
       "\tname\tstr\n",
       "\tindex\tstr\n",
       "\tvalue\tfloat\n",
       "\tstderr\tfloat\n",
       "\n",
       "Rows: 2\n",
       "\n",
       "Data:\n",
       "+-------------+-------+----------------+---------------+\n",
       "|     name    | index |     value      |     stderr    |\n",
       "+-------------+-------+----------------+---------------+\n",
       "| (intercept) |  None | 176626.046881  | 11245.5882194 |\n",
       "|  CrimeRate  |  None | -576.804949058 |  226.90225951 |\n",
       "+-------------+-------+----------------+---------------+\n",
       "[2 rows x 4 columns]"
      ]
     },
     "execution_count": 27,
     "metadata": {},
     "output_type": "execute_result"
    }
   ],
   "source": [
    "crime_model.get('coefficients')"
   ]
  },
  {
   "cell_type": "code",
   "execution_count": 28,
   "metadata": {},
   "outputs": [
    {
     "data": {
      "text/html": [
       "<div style=\"max-height:1000px;max-width:1500px;overflow:auto;\"><table frame=\"box\" rules=\"cols\">\n",
       "    <tr>\n",
       "        <th style=\"padding-left: 1em; padding-right: 1em; text-align: center\">name</th>\n",
       "        <th style=\"padding-left: 1em; padding-right: 1em; text-align: center\">index</th>\n",
       "        <th style=\"padding-left: 1em; padding-right: 1em; text-align: center\">value</th>\n",
       "        <th style=\"padding-left: 1em; padding-right: 1em; text-align: center\">stderr</th>\n",
       "    </tr>\n",
       "    <tr>\n",
       "        <td style=\"padding-left: 1em; padding-right: 1em; text-align: center; vertical-align: top\">(intercept)</td>\n",
       "        <td style=\"padding-left: 1em; padding-right: 1em; text-align: center; vertical-align: top\">None</td>\n",
       "        <td style=\"padding-left: 1em; padding-right: 1em; text-align: center; vertical-align: top\">225204.604303</td>\n",
       "        <td style=\"padding-left: 1em; padding-right: 1em; text-align: center; vertical-align: top\">16404.0247514</td>\n",
       "    </tr>\n",
       "    <tr>\n",
       "        <td style=\"padding-left: 1em; padding-right: 1em; text-align: center; vertical-align: top\">CrimeRate</td>\n",
       "        <td style=\"padding-left: 1em; padding-right: 1em; text-align: center; vertical-align: top\">None</td>\n",
       "        <td style=\"padding-left: 1em; padding-right: 1em; text-align: center; vertical-align: top\">-2287.69717443</td>\n",
       "        <td style=\"padding-left: 1em; padding-right: 1em; text-align: center; vertical-align: top\">491.537478123</td>\n",
       "    </tr>\n",
       "</table>\n",
       "[2 rows x 4 columns]<br/>\n",
       "</div>"
      ],
      "text/plain": [
       "Columns:\n",
       "\tname\tstr\n",
       "\tindex\tstr\n",
       "\tvalue\tfloat\n",
       "\tstderr\tfloat\n",
       "\n",
       "Rows: 2\n",
       "\n",
       "Data:\n",
       "+-------------+-------+----------------+---------------+\n",
       "|     name    | index |     value      |     stderr    |\n",
       "+-------------+-------+----------------+---------------+\n",
       "| (intercept) |  None | 225204.604303  | 16404.0247514 |\n",
       "|  CrimeRate  |  None | -2287.69717443 | 491.537478123 |\n",
       "+-------------+-------+----------------+---------------+\n",
       "[2 rows x 4 columns]"
      ]
     },
     "execution_count": 28,
     "metadata": {},
     "output_type": "execute_result"
    }
   ],
   "source": [
    "crime_model_noCC.get('coefficients')"
   ]
  },
  {
   "cell_type": "markdown",
   "metadata": {},
   "source": [
    "Remove high-value outlier neightbourhoods and redo analysis"
   ]
  },
  {
   "cell_type": "code",
   "execution_count": 29,
   "metadata": {},
   "outputs": [],
   "source": [
    "sf_nohighend =sf_noCC[sf_noCC['HousePrice']<350000]\n",
    "crime_model_nohighend = graphlab.linear_regression.create(sf,target='HousePrice',\n",
    "                                                         features=['CrimeRate'],validation_set=None,verbose=False)"
   ]
  },
  {
   "cell_type": "code",
   "execution_count": 30,
   "metadata": {},
   "outputs": [
    {
     "data": {
      "text/html": [
       "<div style=\"max-height:1000px;max-width:1500px;overflow:auto;\"><table frame=\"box\" rules=\"cols\">\n",
       "    <tr>\n",
       "        <th style=\"padding-left: 1em; padding-right: 1em; text-align: center\">name</th>\n",
       "        <th style=\"padding-left: 1em; padding-right: 1em; text-align: center\">index</th>\n",
       "        <th style=\"padding-left: 1em; padding-right: 1em; text-align: center\">value</th>\n",
       "        <th style=\"padding-left: 1em; padding-right: 1em; text-align: center\">stderr</th>\n",
       "    </tr>\n",
       "    <tr>\n",
       "        <td style=\"padding-left: 1em; padding-right: 1em; text-align: center; vertical-align: top\">(intercept)</td>\n",
       "        <td style=\"padding-left: 1em; padding-right: 1em; text-align: center; vertical-align: top\">None</td>\n",
       "        <td style=\"padding-left: 1em; padding-right: 1em; text-align: center; vertical-align: top\">176626.046881</td>\n",
       "        <td style=\"padding-left: 1em; padding-right: 1em; text-align: center; vertical-align: top\">11245.5882194</td>\n",
       "    </tr>\n",
       "    <tr>\n",
       "        <td style=\"padding-left: 1em; padding-right: 1em; text-align: center; vertical-align: top\">CrimeRate</td>\n",
       "        <td style=\"padding-left: 1em; padding-right: 1em; text-align: center; vertical-align: top\">None</td>\n",
       "        <td style=\"padding-left: 1em; padding-right: 1em; text-align: center; vertical-align: top\">-576.804949058</td>\n",
       "        <td style=\"padding-left: 1em; padding-right: 1em; text-align: center; vertical-align: top\">226.90225951</td>\n",
       "    </tr>\n",
       "</table>\n",
       "[2 rows x 4 columns]<br/>\n",
       "</div>"
      ],
      "text/plain": [
       "Columns:\n",
       "\tname\tstr\n",
       "\tindex\tstr\n",
       "\tvalue\tfloat\n",
       "\tstderr\tfloat\n",
       "\n",
       "Rows: 2\n",
       "\n",
       "Data:\n",
       "+-------------+-------+----------------+---------------+\n",
       "|     name    | index |     value      |     stderr    |\n",
       "+-------------+-------+----------------+---------------+\n",
       "| (intercept) |  None | 176626.046881  | 11245.5882194 |\n",
       "|  CrimeRate  |  None | -576.804949058 |  226.90225951 |\n",
       "+-------------+-------+----------------+---------------+\n",
       "[2 rows x 4 columns]"
      ]
     },
     "execution_count": 30,
     "metadata": {},
     "output_type": "execute_result"
    }
   ],
   "source": [
    "crime_model_nohighend.get('coefficients')"
   ]
  },
  {
   "cell_type": "code",
   "execution_count": 31,
   "metadata": {},
   "outputs": [
    {
     "data": {
      "text/html": [
       "<div style=\"max-height:1000px;max-width:1500px;overflow:auto;\"><table frame=\"box\" rules=\"cols\">\n",
       "    <tr>\n",
       "        <th style=\"padding-left: 1em; padding-right: 1em; text-align: center\">name</th>\n",
       "        <th style=\"padding-left: 1em; padding-right: 1em; text-align: center\">index</th>\n",
       "        <th style=\"padding-left: 1em; padding-right: 1em; text-align: center\">value</th>\n",
       "        <th style=\"padding-left: 1em; padding-right: 1em; text-align: center\">stderr</th>\n",
       "    </tr>\n",
       "    <tr>\n",
       "        <td style=\"padding-left: 1em; padding-right: 1em; text-align: center; vertical-align: top\">(intercept)</td>\n",
       "        <td style=\"padding-left: 1em; padding-right: 1em; text-align: center; vertical-align: top\">None</td>\n",
       "        <td style=\"padding-left: 1em; padding-right: 1em; text-align: center; vertical-align: top\">225204.604303</td>\n",
       "        <td style=\"padding-left: 1em; padding-right: 1em; text-align: center; vertical-align: top\">16404.0247514</td>\n",
       "    </tr>\n",
       "    <tr>\n",
       "        <td style=\"padding-left: 1em; padding-right: 1em; text-align: center; vertical-align: top\">CrimeRate</td>\n",
       "        <td style=\"padding-left: 1em; padding-right: 1em; text-align: center; vertical-align: top\">None</td>\n",
       "        <td style=\"padding-left: 1em; padding-right: 1em; text-align: center; vertical-align: top\">-2287.69717443</td>\n",
       "        <td style=\"padding-left: 1em; padding-right: 1em; text-align: center; vertical-align: top\">491.537478123</td>\n",
       "    </tr>\n",
       "</table>\n",
       "[2 rows x 4 columns]<br/>\n",
       "</div>"
      ],
      "text/plain": [
       "Columns:\n",
       "\tname\tstr\n",
       "\tindex\tstr\n",
       "\tvalue\tfloat\n",
       "\tstderr\tfloat\n",
       "\n",
       "Rows: 2\n",
       "\n",
       "Data:\n",
       "+-------------+-------+----------------+---------------+\n",
       "|     name    | index |     value      |     stderr    |\n",
       "+-------------+-------+----------------+---------------+\n",
       "| (intercept) |  None | 225204.604303  | 16404.0247514 |\n",
       "|  CrimeRate  |  None | -2287.69717443 | 491.537478123 |\n",
       "+-------------+-------+----------------+---------------+\n",
       "[2 rows x 4 columns]"
      ]
     },
     "execution_count": 31,
     "metadata": {},
     "output_type": "execute_result"
    }
   ],
   "source": [
    "crime_model_noCC.get('coefficients')"
   ]
  },
  {
   "cell_type": "code",
   "execution_count": null,
   "metadata": {},
   "outputs": [],
   "source": []
  }
 ],
 "metadata": {
  "kernelspec": {
   "display_name": "Python 2",
   "language": "python",
   "name": "python2"
  },
  "language_info": {
   "codemirror_mode": {
    "name": "ipython",
    "version": 2
   },
   "file_extension": ".py",
   "mimetype": "text/x-python",
   "name": "python",
   "nbconvert_exporter": "python",
   "pygments_lexer": "ipython2",
   "version": "2.7.18"
  }
 },
 "nbformat": 4,
 "nbformat_minor": 2
}
