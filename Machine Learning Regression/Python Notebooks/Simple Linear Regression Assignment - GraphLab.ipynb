{
 "cells": [
  {
   "cell_type": "markdown",
   "metadata": {},
   "source": [
    "Fire up GraphLab Create"
   ]
  },
  {
   "cell_type": "code",
   "execution_count": 1,
   "metadata": {},
   "outputs": [],
   "source": [
    "import graphlab"
   ]
  },
  {
   "cell_type": "markdown",
   "metadata": {},
   "source": [
    "Load house sales data"
   ]
  },
  {
   "cell_type": "code",
   "execution_count": 2,
   "metadata": {},
   "outputs": [
    {
     "name": "stderr",
     "output_type": "stream",
     "text": [
      "[INFO] graphlab.cython.cy_server: GraphLab Create v2.1 started. Logging: C:\\Users\\Nipuna\\AppData\\Local\\Temp\\graphlab_server_1595754242.log.0\n"
     ]
    },
    {
     "name": "stdout",
     "output_type": "stream",
     "text": [
      "This non-commercial license of GraphLab Create for academic use is assigned to 160645l@uom.lk and will expire on July 20, 2021.\n"
     ]
    }
   ],
   "source": [
    "sales = graphlab.SFrame('kc_house_data.gl/')"
   ]
  },
  {
   "cell_type": "markdown",
   "metadata": {},
   "source": [
    "Split data into training and testing"
   ]
  },
  {
   "cell_type": "code",
   "execution_count": 4,
   "metadata": {},
   "outputs": [],
   "source": [
    "train_data,test_data =sales.random_split(0.8,seed=0)"
   ]
  },
  {
   "cell_type": "markdown",
   "metadata": {},
   "source": [
    "Useful SFrame Summary Functions"
   ]
  },
  {
   "cell_type": "code",
   "execution_count": 5,
   "metadata": {},
   "outputs": [
    {
     "name": "stdout",
     "output_type": "stream",
     "text": [
      "540088.141905\n",
      "540088.141905\n"
     ]
    }
   ],
   "source": [
    "#Let's compute the mean of the house prices in King County in 2 different ways\n",
    "prices = sales['price'] #extract the price column of the sales SFrame -- this is now a SArray\n",
    "#recall that the arithmetic average(the mean) is the sum of the prices divided by the total number of houses\n",
    "sum_prices = prices.sum()\n",
    "num_houses = prices.size()\n",
    "\n",
    "avg_price_1 = float(sum_prices)/num_houses\n",
    "avg_price_2 = prices.mean()\n",
    "\n",
    "print avg_price_1\n",
    "print avg_price_2"
   ]
  },
  {
   "cell_type": "code",
   "execution_count": 6,
   "metadata": {},
   "outputs": [
    {
     "name": "stdout",
     "output_type": "stream",
     "text": [
      "9.21732513355e+15\n"
     ]
    }
   ],
   "source": [
    "#if we want to multiply every price by 0.5 it's simple as\n",
    "half_price = 0.5*prices\n",
    "#let's compute the sum of squares of price. We can multiply two SArrays of the same length elementwise also with *\n",
    "prices_squared = prices*prices\n",
    "sum_prices_squared = prices_squared.sum()\n",
    "print sum_prices_squared"
   ]
  },
  {
   "cell_type": "markdown",
   "metadata": {},
   "source": [
    "Build a generic simple linear regression function"
   ]
  },
  {
   "cell_type": "code",
   "execution_count": 7,
   "metadata": {},
   "outputs": [],
   "source": [
    "def simple_linear_regression(input_feature,output):\n",
    "    Xi= input_feature\n",
    "    Yi= output\n",
    "    N = len(Xi)\n",
    "    #compute mean of input_feature and output\n",
    "    YMean = Yi.mean()\n",
    "    XMean = Xi.mean()\n",
    "    #compute the product of the output and the input_feature and its mean\n",
    "    SumYiXi = (Yi*Xi).sum()\n",
    "    YiXiByN = (Yi.sum()*Xi.sum())/N\n",
    "    #compute the squared value of the input_feature and its mean\n",
    "    XiSq = (Xi*Xi).sum()\n",
    "    XiXiByN = (Xi.sum()*Xi.sum())/N\n",
    "    #calculate slope\n",
    "    slope = (SumYiXi-YiXiByN)/(XiSq-XiXiByN)\n",
    "    #calculate intercept\n",
    "    intercept = YMean-(slope*XMean)\n",
    "    return (intercept,slope)"
   ]
  },
  {
   "cell_type": "code",
   "execution_count": 9,
   "metadata": {},
   "outputs": [
    {
     "name": "stdout",
     "output_type": "stream",
     "text": [
      "Intercept: 1.0\n",
      "Slope: 1\n"
     ]
    }
   ],
   "source": [
    "test_feature = graphlab.SArray(range(5))\n",
    "test_output = graphlab.SArray(1+1*test_feature)\n",
    "(test_intercept, test_slope)=simple_linear_regression(test_feature,test_output)\n",
    "print \"Intercept: \"+str(test_intercept)\n",
    "print \"Slope: \"+str(test_slope)"
   ]
  },
  {
   "cell_type": "code",
   "execution_count": 10,
   "metadata": {},
   "outputs": [
    {
     "name": "stdout",
     "output_type": "stream",
     "text": [
      "Intercept: -47116.0765749\n",
      "Slope: 281.958838568\n"
     ]
    }
   ],
   "source": [
    "sqft_intercept,sqft_slope = simple_linear_regression(train_data['sqft_living'],train_data['price'])\n",
    "print \"Intercept: \"+str(sqft_intercept)\n",
    "print \"Slope: \"+str(sqft_slope) "
   ]
  },
  {
   "cell_type": "markdown",
   "metadata": {},
   "source": [
    "Predicting Values"
   ]
  },
  {
   "cell_type": "code",
   "execution_count": 11,
   "metadata": {},
   "outputs": [],
   "source": [
    "def get_regression_predictions(input_feature, intercept, slope):\n",
    "    #calculate the predicted values\n",
    "    predicted_values = intercept+(slope*input_feature)\n",
    "    return predicted_values"
   ]
  },
  {
   "cell_type": "code",
   "execution_count": 13,
   "metadata": {},
   "outputs": [
    {
     "name": "stdout",
     "output_type": "stream",
     "text": [
      "The estimated price for a house with 2650 squarefeet is $700074.85\n"
     ]
    }
   ],
   "source": [
    "my_house_sqft = 2650\n",
    "estimated_price = get_regression_predictions(my_house_sqft,sqft_intercept,sqft_slope)\n",
    "print \"The estimated price for a house with %d squarefeet is $%.2f\" %(my_house_sqft,estimated_price)"
   ]
  },
  {
   "cell_type": "markdown",
   "metadata": {},
   "source": [
    "Residual Sum Of Squares"
   ]
  },
  {
   "cell_type": "code",
   "execution_count": 14,
   "metadata": {},
   "outputs": [],
   "source": [
    "def get_residual_sum_of_squares(input_feature, output, intercept, slope):\n",
    "    #first get the predictions\n",
    "    predicted_values = intercept+(slope*input_feature)\n",
    "    #then compute the residuals\n",
    "    residuals = output - predicted_values\n",
    "    #suare them up\n",
    "    RSS = (residuals*residuals).sum()\n",
    "    return (RSS)"
   ]
  },
  {
   "cell_type": "code",
   "execution_count": 15,
   "metadata": {},
   "outputs": [
    {
     "name": "stdout",
     "output_type": "stream",
     "text": [
      "0.0\n"
     ]
    }
   ],
   "source": [
    "print get_residual_sum_of_squares(test_feature,test_output,test_intercept,test_slope)"
   ]
  },
  {
   "cell_type": "code",
   "execution_count": 16,
   "metadata": {},
   "outputs": [
    {
     "name": "stdout",
     "output_type": "stream",
     "text": [
      "The RSS of predicting prices based on Sq.ft. is: 1.20191835632e+15\n"
     ]
    }
   ],
   "source": [
    "rss_price_on_sqft = get_residual_sum_of_squares(train_data['sqft_living'],train_data['price'],\n",
    "                                               sqft_intercept,sqft_slope)\n",
    "print 'The RSS of predicting prices based on Sq.ft. is: '+str(rss_price_on_sqft)"
   ]
  },
  {
   "cell_type": "markdown",
   "metadata": {},
   "source": [
    "Predict the Sq.Ft. given price"
   ]
  },
  {
   "cell_type": "code",
   "execution_count": 17,
   "metadata": {},
   "outputs": [],
   "source": [
    "def inverse_regression_predictions(output, intercept,slope):\n",
    "    estimated_feature = (output-intercept)/slope\n",
    "    return estimated_feature"
   ]
  },
  {
   "cell_type": "code",
   "execution_count": 18,
   "metadata": {},
   "outputs": [
    {
     "name": "stdout",
     "output_type": "stream",
     "text": [
      "The estimated squarefeet for a house worth $800000.00 is 3004 \n"
     ]
    }
   ],
   "source": [
    "my_house_price = 800000\n",
    "estimated_squarefeet = inverse_regression_predictions(my_house_price, sqft_intercept, sqft_slope)\n",
    "print \"The estimated squarefeet for a house worth $%.2f is %d \"%(my_house_price,estimated_squarefeet)"
   ]
  },
  {
   "cell_type": "markdown",
   "metadata": {},
   "source": [
    "New Model: Estimate Prices from Bedrooms"
   ]
  },
  {
   "cell_type": "code",
   "execution_count": 20,
   "metadata": {},
   "outputs": [
    {
     "name": "stdout",
     "output_type": "stream",
     "text": [
      "Intercept: 109473.180469\n",
      "Slope: 127588.952175\n"
     ]
    }
   ],
   "source": [
    "bedrooms_intercept,bedrooms_slope = simple_linear_regression(train_data['bedrooms'],train_data['price'])\n",
    "print \"Intercept: \" + str(bedrooms_intercept)\n",
    "print \"Slope: \" + str(bedrooms_slope)"
   ]
  },
  {
   "cell_type": "markdown",
   "metadata": {},
   "source": [
    "Test the Linear Regression Algorithm"
   ]
  },
  {
   "cell_type": "code",
   "execution_count": 21,
   "metadata": {},
   "outputs": [
    {
     "name": "stdout",
     "output_type": "stream",
     "text": [
      "The RSS of predicting Prices based on Bedrooms is : 4.93364582868e+14\n"
     ]
    }
   ],
   "source": [
    "#Compute RSS when using bedrooms on TEST data\n",
    "bedrooms_intercept,bedrooms_slope = simple_linear_regression(train_data['bedrooms'],train_data['price'])\n",
    "rss_prices_on_bedrooms = get_residual_sum_of_squares(test_data['bedrooms'],test_data['price'],bedrooms_intercept,bedrooms_slope)\n",
    "print 'The RSS of predicting Prices based on Bedrooms is : ' + str(rss_prices_on_bedrooms)"
   ]
  },
  {
   "cell_type": "code",
   "execution_count": 22,
   "metadata": {},
   "outputs": [
    {
     "name": "stdout",
     "output_type": "stream",
     "text": [
      "The RSS of predicting Prices based on Square Feet is : 2.75402936247e+14\n"
     ]
    }
   ],
   "source": [
    "# Compute RSS when using squarfeet on TEST data:\n",
    "sqft_intercept, sqft_slope = simple_linear_regression(train_data['sqft_living'], train_data['price'])\n",
    "rss_prices_on_sqft = get_residual_sum_of_squares(test_data['sqft_living'], test_data['price'], sqft_intercept, sqft_slope)\n",
    "print 'The RSS of predicting Prices based on Square Feet is : ' + str(rss_prices_on_sqft)"
   ]
  },
  {
   "cell_type": "code",
   "execution_count": null,
   "metadata": {},
   "outputs": [],
   "source": []
  }
 ],
 "metadata": {
  "kernelspec": {
   "display_name": "Python 2",
   "language": "python",
   "name": "python2"
  },
  "language_info": {
   "codemirror_mode": {
    "name": "ipython",
    "version": 2
   },
   "file_extension": ".py",
   "mimetype": "text/x-python",
   "name": "python",
   "nbconvert_exporter": "python",
   "pygments_lexer": "ipython2",
   "version": "2.7.18"
  }
 },
 "nbformat": 4,
 "nbformat_minor": 2
}
